{
  "nbformat": 4,
  "nbformat_minor": 0,
  "metadata": {
    "colab": {
      "provenance": []
    },
    "kernelspec": {
      "name": "python3",
      "display_name": "Python 3"
    },
    "language_info": {
      "name": "python"
    }
  },
  "cells": [
    {
      "cell_type": "code",
      "execution_count": 1,
      "metadata": {
        "colab": {
          "base_uri": "https://localhost:8080/",
          "height": 399
        },
        "id": "S5T5SIsYduvg",
        "outputId": "93b8bd22-520a-4823-ceb8-d2964ca5b90e"
      },
      "outputs": [
        {
          "output_type": "error",
          "ename": "ModuleNotFoundError",
          "evalue": "No module named 'cvzone'",
          "traceback": [
            "\u001b[0;31m---------------------------------------------------------------------------\u001b[0m",
            "\u001b[0;31mModuleNotFoundError\u001b[0m                       Traceback (most recent call last)",
            "\u001b[0;32m/tmp/ipython-input-4044127586.py\u001b[0m in \u001b[0;36m<cell line: 0>\u001b[0;34m()\u001b[0m\n\u001b[1;32m      1\u001b[0m \u001b[0;32mimport\u001b[0m \u001b[0mcv2\u001b[0m\u001b[0;34m\u001b[0m\u001b[0;34m\u001b[0m\u001b[0m\n\u001b[0;32m----> 2\u001b[0;31m \u001b[0;32mfrom\u001b[0m \u001b[0mcvzone\u001b[0m\u001b[0;34m.\u001b[0m\u001b[0mHandTrackingModule\u001b[0m \u001b[0;32mimport\u001b[0m \u001b[0mHandDetector\u001b[0m\u001b[0;34m\u001b[0m\u001b[0;34m\u001b[0m\u001b[0m\n\u001b[0m\u001b[1;32m      3\u001b[0m \u001b[0;32mimport\u001b[0m \u001b[0mnumpy\u001b[0m \u001b[0;32mas\u001b[0m \u001b[0mnp\u001b[0m\u001b[0;34m\u001b[0m\u001b[0;34m\u001b[0m\u001b[0m\n\u001b[1;32m      4\u001b[0m \u001b[0;32mimport\u001b[0m \u001b[0mos\u001b[0m \u001b[0;32mas\u001b[0m \u001b[0moss\u001b[0m\u001b[0;34m\u001b[0m\u001b[0;34m\u001b[0m\u001b[0m\n\u001b[1;32m      5\u001b[0m \u001b[0;32mimport\u001b[0m \u001b[0mtraceback\u001b[0m\u001b[0;34m\u001b[0m\u001b[0;34m\u001b[0m\u001b[0m\n",
            "\u001b[0;31mModuleNotFoundError\u001b[0m: No module named 'cvzone'",
            "",
            "\u001b[0;31m---------------------------------------------------------------------------\u001b[0;32m\nNOTE: If your import is failing due to a missing package, you can\nmanually install dependencies using either !pip or !apt.\n\nTo view examples of installing some common dependencies, click the\n\"Open Examples\" button below.\n\u001b[0;31m---------------------------------------------------------------------------\u001b[0m\n"
          ],
          "errorDetails": {
            "actions": [
              {
                "action": "open_url",
                "actionText": "Open Examples",
                "url": "/notebooks/snippets/importing_libraries.ipynb"
              }
            ]
          }
        }
      ],
      "source": [
        "import cv2\n",
        "from cvzone.HandTrackingModule import HandDetector\n",
        "import numpy as np\n",
        "import os as oss\n",
        "import traceback\n",
        "\n",
        "\n",
        "\n",
        "capture = cv2.VideoCapture(0)\n",
        "hd = HandDetector(maxHands=1)\n",
        "hd2 = HandDetector(maxHands=1)\n",
        "\n",
        "count = len(oss.listdir(\"D:\\\\sign2text_dataset_3.0\\\\AtoZ_3.0\\\\A\\\\\"))\n",
        "c_dir = 'A'\n",
        "\n",
        "offset = 15\n",
        "step = 1\n",
        "flag=False\n",
        "suv=0\n",
        "\n",
        "white=np.ones((400,400),np.uint8)*255\n",
        "cv2.imwrite(\"C:\\\\Users\\\\devansh raval\\\\PycharmProjects\\\\pythonProject\\\\white.jpg\",white)\n",
        "\n",
        "\n",
        "while True:\n",
        "    try:\n",
        "        _, frame = capture.read()\n",
        "        frame = cv2.flip(frame, 1)\n",
        "        hands= hd.findHands(frame, draw=False, flipType=True)\n",
        "        white = cv2.imread(\"C:\\\\Users\\\\devansh raval\\\\PycharmProjects\\\\pythonProject\\\\white.jpg\")\n",
        "\n",
        "        if hands:\n",
        "            hand = hands[0]\n",
        "            x, y, w, h = hand['bbox']\n",
        "            image =np.array( frame[y - offset:y + h + offset, x - offset:x + w + offset])\n",
        "\n",
        "            handz,imz = hd2.findHands(image, draw=True, flipType=True)\n",
        "            if handz:\n",
        "                hand = handz[0]\n",
        "                pts = hand['lmList']\n",
        "                # x1,y1,w1,h1=hand['bbox']\n",
        "                os=((400-w)//2)-15\n",
        "                os1=((400-h)//2)-15\n",
        "                for t in range(0,4,1):\n",
        "                    cv2.line(white,(pts[t][0]+os,pts[t][1]+os1),(pts[t+1][0]+os,pts[t+1][1]+os1),(0,255,0),3)\n",
        "                for t in range(5,8,1):\n",
        "                    cv2.line(white,(pts[t][0]+os,pts[t][1]+os1),(pts[t+1][0]+os,pts[t+1][1]+os1),(0,255,0),3)\n",
        "                for t in range(9,12,1):\n",
        "                    cv2.line(white,(pts[t][0]+os,pts[t][1]+os1),(pts[t+1][0]+os,pts[t+1][1]+os1),(0,255,0),3)\n",
        "                for t in range(13,16,1):\n",
        "                    cv2.line(white,(pts[t][0]+os,pts[t][1]+os1),(pts[t+1][0]+os,pts[t+1][1]+os1),(0,255,0),3)\n",
        "                for t in range(17,20,1):\n",
        "                    cv2.line(white,(pts[t][0]+os,pts[t][1]+os1),(pts[t+1][0]+os,pts[t+1][1]+os1),(0,255,0),3)\n",
        "                cv2.line(white, (pts[5][0]+os, pts[5][1]+os1), (pts[9][0]+os, pts[9][1]+os1), (0, 255, 0), 3)\n",
        "                cv2.line(white, (pts[9][0]+os, pts[9][1]+os1), (pts[13][0]+os, pts[13][1]+os1), (0, 255, 0), 3)\n",
        "                cv2.line(white, (pts[13][0]+os, pts[13][1]+os1), (pts[17][0]+os, pts[17][1]+os1), (0, 255, 0), 3)\n",
        "                cv2.line(white, (pts[0][0]+os, pts[0][1]+os1), (pts[5][0]+os, pts[5][1]+os1), (0, 255, 0), 3)\n",
        "                cv2.line(white, (pts[0][0]+os, pts[0][1]+os1), (pts[17][0]+os, pts[17][1]+os1), (0, 255, 0), 3)\n",
        "\n",
        "                skeleton0=np.array(white)\n",
        "                zz=np.array(white)\n",
        "                for i in range(21):\n",
        "                    cv2.circle(white,(pts[i][0]+os,pts[i][1]+os1),2,(0 , 0 , 255),1)\n",
        "\n",
        "                skeleton1=np.array(white)\n",
        "\n",
        "                cv2.imshow(\"1\",skeleton1)\n",
        "\n",
        "        frame = cv2.putText(frame, \"dir=\" + str(c_dir) + \"  count=\" + str(count), (50,50),\n",
        "                            cv2.FONT_HERSHEY_SIMPLEX,\n",
        "                            1, (255, 0, 0), 1, cv2.LINE_AA)\n",
        "        cv2.imshow(\"frame\", frame)\n",
        "        interrupt = cv2.waitKey(1)\n",
        "        if interrupt & 0xFF == 27:\n",
        "            # esc key\n",
        "            break\n",
        "\n",
        "\n",
        "        if interrupt & 0xFF == ord('n'):\n",
        "            c_dir = chr(ord(c_dir)+1)\n",
        "            if ord(c_dir)==ord('Z')+1:\n",
        "                c_dir='A'\n",
        "            flag = False\n",
        "            count = len(oss.listdir(\"D:\\\\sign2text_dataset_3.0\\\\AtoZ_3.0\\\\\" + (c_dir) + \"\\\\\"))\n",
        "\n",
        "        if interrupt & 0xFF == ord('a'):\n",
        "            if flag:\n",
        "                flag=False\n",
        "            else:\n",
        "                suv=0\n",
        "                flag=True\n",
        "\n",
        "        print(\"=====\",flag)\n",
        "        if flag==True:\n",
        "\n",
        "            if suv==180:\n",
        "                flag=False\n",
        "            if step%3==0:\n",
        "                cv2.imwrite(\"D:\\\\sign2text_dataset_3.0\\\\AtoZ_3.1\\\\\" + (c_dir) + \"\\\\\" + str(count) + \".jpg\",\n",
        "                            skeleton1)\n",
        "\n",
        "                count += 1\n",
        "                suv += 1\n",
        "            step+=1\n",
        "\n",
        "\n",
        "\n",
        "    except Exception:\n",
        "        print(\"==\",traceback.format_exc() )\n",
        "\n",
        "capture.release()\n",
        "cv2.destroyAllWindows()"
      ]
    }
  ]
}